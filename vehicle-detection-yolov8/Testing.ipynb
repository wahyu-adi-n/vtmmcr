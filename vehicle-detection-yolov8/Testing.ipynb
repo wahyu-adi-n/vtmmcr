{
 "cells": [
  {
   "cell_type": "code",
   "execution_count": 3,
   "id": "0d40ecd2",
   "metadata": {},
   "outputs": [
    {
     "name": "stderr",
     "output_type": "stream",
     "text": [
      "Ultralytics YOLOv8.0.124 🚀 Python-3.8.8 torch-1.12.0+cu113 CUDA:0 (A100-SXM4-40GB MIG 3g.20gb, 20096MiB)\n",
      "Setup complete ✅ (256 CPUs, 1007.7 GB RAM, 576.8/1757.8 GB disk)\n",
      "\n",
      "Benchmarks complete for yolov8m.pt on coco8.yaml at imgsz=640 (374.27s)\n",
      "                   Format Status❔  Size (MB)  metrics/mAP50-95(B)  Inference time (ms/im)\n",
      "0                 PyTorch       ✅       49.7               0.7370                   55.09\n",
      "1             TorchScript       ✅       99.3               0.7280                   53.13\n",
      "2                    ONNX       ✅       98.9               0.7280                  104.94\n",
      "3                OpenVINO       ❌        0.0                  NaN                     NaN\n",
      "4                TensorRT       ✅      101.1               0.7285                   46.30\n",
      "5                  CoreML       ❌        0.0                  NaN                     NaN\n",
      "6   TensorFlow SavedModel       ❌        0.0                  NaN                     NaN\n",
      "7     TensorFlow GraphDef       ❌        0.0                  NaN                     NaN\n",
      "8         TensorFlow Lite       ❌        0.0                  NaN                     NaN\n",
      "9     TensorFlow Edge TPU       ❌        0.0                  NaN                     NaN\n",
      "10          TensorFlow.js       ❌        0.0                  NaN                     NaN\n",
      "11           PaddlePaddle       ✅      197.9               0.7280                 3638.16\n",
      "\n"
     ]
    },
    {
     "data": {
      "text/html": [
       "<div>\n",
       "<style scoped>\n",
       "    .dataframe tbody tr th:only-of-type {\n",
       "        vertical-align: middle;\n",
       "    }\n",
       "\n",
       "    .dataframe tbody tr th {\n",
       "        vertical-align: top;\n",
       "    }\n",
       "\n",
       "    .dataframe thead th {\n",
       "        text-align: right;\n",
       "    }\n",
       "</style>\n",
       "<table border=\"1\" class=\"dataframe\">\n",
       "  <thead>\n",
       "    <tr style=\"text-align: right;\">\n",
       "      <th></th>\n",
       "      <th>Format</th>\n",
       "      <th>Status❔</th>\n",
       "      <th>Size (MB)</th>\n",
       "      <th>metrics/mAP50-95(B)</th>\n",
       "      <th>Inference time (ms/im)</th>\n",
       "    </tr>\n",
       "  </thead>\n",
       "  <tbody>\n",
       "    <tr>\n",
       "      <th>0</th>\n",
       "      <td>PyTorch</td>\n",
       "      <td>✅</td>\n",
       "      <td>49.7</td>\n",
       "      <td>0.7370</td>\n",
       "      <td>55.09</td>\n",
       "    </tr>\n",
       "    <tr>\n",
       "      <th>1</th>\n",
       "      <td>TorchScript</td>\n",
       "      <td>✅</td>\n",
       "      <td>99.3</td>\n",
       "      <td>0.7280</td>\n",
       "      <td>53.13</td>\n",
       "    </tr>\n",
       "    <tr>\n",
       "      <th>2</th>\n",
       "      <td>ONNX</td>\n",
       "      <td>✅</td>\n",
       "      <td>98.9</td>\n",
       "      <td>0.7280</td>\n",
       "      <td>104.94</td>\n",
       "    </tr>\n",
       "    <tr>\n",
       "      <th>3</th>\n",
       "      <td>OpenVINO</td>\n",
       "      <td>❌</td>\n",
       "      <td>0.0</td>\n",
       "      <td>NaN</td>\n",
       "      <td>NaN</td>\n",
       "    </tr>\n",
       "    <tr>\n",
       "      <th>4</th>\n",
       "      <td>TensorRT</td>\n",
       "      <td>✅</td>\n",
       "      <td>101.1</td>\n",
       "      <td>0.7285</td>\n",
       "      <td>46.30</td>\n",
       "    </tr>\n",
       "    <tr>\n",
       "      <th>5</th>\n",
       "      <td>CoreML</td>\n",
       "      <td>❌</td>\n",
       "      <td>0.0</td>\n",
       "      <td>NaN</td>\n",
       "      <td>NaN</td>\n",
       "    </tr>\n",
       "    <tr>\n",
       "      <th>6</th>\n",
       "      <td>TensorFlow SavedModel</td>\n",
       "      <td>❌</td>\n",
       "      <td>0.0</td>\n",
       "      <td>NaN</td>\n",
       "      <td>NaN</td>\n",
       "    </tr>\n",
       "    <tr>\n",
       "      <th>7</th>\n",
       "      <td>TensorFlow GraphDef</td>\n",
       "      <td>❌</td>\n",
       "      <td>0.0</td>\n",
       "      <td>NaN</td>\n",
       "      <td>NaN</td>\n",
       "    </tr>\n",
       "    <tr>\n",
       "      <th>8</th>\n",
       "      <td>TensorFlow Lite</td>\n",
       "      <td>❌</td>\n",
       "      <td>0.0</td>\n",
       "      <td>NaN</td>\n",
       "      <td>NaN</td>\n",
       "    </tr>\n",
       "    <tr>\n",
       "      <th>9</th>\n",
       "      <td>TensorFlow Edge TPU</td>\n",
       "      <td>❌</td>\n",
       "      <td>0.0</td>\n",
       "      <td>NaN</td>\n",
       "      <td>NaN</td>\n",
       "    </tr>\n",
       "    <tr>\n",
       "      <th>10</th>\n",
       "      <td>TensorFlow.js</td>\n",
       "      <td>❌</td>\n",
       "      <td>0.0</td>\n",
       "      <td>NaN</td>\n",
       "      <td>NaN</td>\n",
       "    </tr>\n",
       "    <tr>\n",
       "      <th>11</th>\n",
       "      <td>PaddlePaddle</td>\n",
       "      <td>✅</td>\n",
       "      <td>197.9</td>\n",
       "      <td>0.7280</td>\n",
       "      <td>3638.16</td>\n",
       "    </tr>\n",
       "  </tbody>\n",
       "</table>\n",
       "</div>"
      ],
      "text/plain": [
       "                   Format Status❔  Size (MB)  metrics/mAP50-95(B)  Inference time (ms/im)\n",
       "0                 PyTorch       ✅       49.7               0.7370                   55.09\n",
       "1             TorchScript       ✅       99.3               0.7280                   53.13\n",
       "2                    ONNX       ✅       98.9               0.7280                  104.94\n",
       "3                OpenVINO       ❌        0.0                  NaN                     NaN\n",
       "4                TensorRT       ✅      101.1               0.7285                   46.30\n",
       "5                  CoreML       ❌        0.0                  NaN                     NaN\n",
       "6   TensorFlow SavedModel       ❌        0.0                  NaN                     NaN\n",
       "7     TensorFlow GraphDef       ❌        0.0                  NaN                     NaN\n",
       "8         TensorFlow Lite       ❌        0.0                  NaN                     NaN\n",
       "9     TensorFlow Edge TPU       ❌        0.0                  NaN                     NaN\n",
       "10          TensorFlow.js       ❌        0.0                  NaN                     NaN\n",
       "11           PaddlePaddle       ✅      197.9               0.7280                 3638.16"
      ]
     },
     "execution_count": 3,
     "metadata": {},
     "output_type": "execute_result"
    }
   ],
   "source": [
    "from ultralytics.yolo.utils.benchmarks import benchmark\n",
    "\n",
    "# Benchmark on GPU\n",
    "benchmark(model='/home/jovyan/catursupriyanto_dsn/vehicle-detection-yolov8/yolov8m.pt', imgsz=640, half=False, device=0)"
   ]
  },
  {
   "cell_type": "code",
   "execution_count": null,
   "id": "567aebd3",
   "metadata": {},
   "outputs": [
    {
     "name": "stderr",
     "output_type": "stream",
     "text": [
      "Ultralytics YOLOv8.0.124 🚀 Python-3.8.8 torch-1.12.0+cu113 CUDA:0 (A100-SXM4-40GB MIG 3g.20gb, 20096MiB)\n",
      "YOLOv8m summary (fused): 218 layers, 25886080 parameters, 0 gradients\n",
      "\n",
      "Dataset 'coco.yaml' images not found ⚠️, missing paths ['/home/jovyan/catursupriyanto_dsn/yolov8-training-on-hit-uav/datasets/coco/val2017.txt']\n",
      "Downloading https://github.com/ultralytics/yolov5/releases/download/v1.0/coco2017labels-segments.zip to /home/jovyan/catursupriyanto_dsn/yolov8-training-on-hit-uav/datasets/coco2017labels-segments.zip...\n"
     ]
    },
    {
     "data": {
      "application/vnd.jupyter.widget-view+json": {
       "model_id": "2a20ac67640447d7a02a9107255824d3",
       "version_major": 2,
       "version_minor": 0
      },
      "text/plain": [
       "  0%|          | 0.00/169M [00:00<?, ?B/s]"
      ]
     },
     "metadata": {},
     "output_type": "display_data"
    },
    {
     "name": "stderr",
     "output_type": "stream",
     "text": [
      "Unzipping /home/jovyan/catursupriyanto_dsn/yolov8-training-on-hit-uav/datasets/coco2017labels-segments.zip to /home/jovyan/catursupriyanto_dsn/yolov8-training-on-hit-uav/datasets...\n",
      "Downloading http://images.cocodataset.org/zips/train2017.zip to /home/jovyan/catursupriyanto_dsn/yolov8-training-on-hit-uav/datasets/coco/images/train2017.zip...\n",
      "Downloading http://images.cocodataset.org/zips/val2017.zip to /home/jovyan/catursupriyanto_dsn/yolov8-training-on-hit-uav/datasets/coco/images/val2017.zip...\n",
      "Downloading http://images.cocodataset.org/zips/test2017.zip to /home/jovyan/catursupriyanto_dsn/yolov8-training-on-hit-uav/datasets/coco/images/test2017.zip...\n",
      "Unzipping /home/jovyan/catursupriyanto_dsn/yolov8-training-on-hit-uav/datasets/coco/images/val2017.zip to /home/jovyan/catursupriyanto_dsn/yolov8-training-on-hit-uav/datasets/coco/images...\n",
      "Unzipping /home/jovyan/catursupriyanto_dsn/yolov8-training-on-hit-uav/datasets/coco/images/test2017.zip to /home/jovyan/catursupriyanto_dsn/yolov8-training-on-hit-uav/datasets/coco/images...\n"
     ]
    }
   ],
   "source": [
    "from ultralytics import YOLO\n",
    "\n",
    "model = YOLO(model='/home/jovyan/catursupriyanto_dsn/vehicle-detection-yolov8/yolov8m.pt')  # load a custom model\n",
    "\n",
    "# Validate the model\n",
    "metrics = model.val()  # no arguments needed, dataset and settings remembered\n",
    "metrics.box.map    # map50-95\n",
    "metrics.box.map50  # map50\n",
    "metrics.box.map75  # map75\n",
    "metrics.box.maps   # a list contains map50-95 of each category"
   ]
  },
  {
   "cell_type": "code",
   "execution_count": null,
   "id": "72112863",
   "metadata": {},
   "outputs": [],
   "source": []
  }
 ],
 "metadata": {
  "kernelspec": {
   "display_name": "Python 3",
   "language": "python",
   "name": "python3"
  },
  "language_info": {
   "codemirror_mode": {
    "name": "ipython",
    "version": 3
   },
   "file_extension": ".py",
   "mimetype": "text/x-python",
   "name": "python",
   "nbconvert_exporter": "python",
   "pygments_lexer": "ipython3",
   "version": "3.8.8"
  }
 },
 "nbformat": 4,
 "nbformat_minor": 5
}
